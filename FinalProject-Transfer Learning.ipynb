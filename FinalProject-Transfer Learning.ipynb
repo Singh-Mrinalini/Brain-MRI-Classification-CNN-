{
  "nbformat": 4,
  "nbformat_minor": 0,
  "metadata": {
    "colab": {
      "name": "FinalProject.ipynb",
      "provenance": [],
      "collapsed_sections": []
    },
    "kernelspec": {
      "name": "python3",
      "display_name": "Python 3"
    },
    "language_info": {
      "name": "python"
    },
    "accelerator": "GPU"
  },
  "cells": [
    {
      "cell_type": "markdown",
      "source": [
        "Transfer Learning through VGG16 and Resnet18\n"
      ],
      "metadata": {
        "id": "m9kXSCXmh4t2"
      }
    },
    {
      "cell_type": "markdown",
      "source": [
        "Importing the modules"
      ],
      "metadata": {
        "id": "aJm9U2YwlGDj"
      }
    },
    {
      "cell_type": "code",
      "execution_count": 1,
      "metadata": {
        "id": "NTp-6VlAtfAp"
      },
      "outputs": [],
      "source": [
        "from __future__ import print_function, division\n",
        "\n",
        "import torch\n",
        "import torch.nn as nn\n",
        "import torch.optim as optim\n",
        "from torch.optim import lr_scheduler\n",
        "import numpy as np\n",
        "import torchvision\n",
        "from torchvision import datasets, models, transforms\n",
        "import matplotlib.pyplot as plt\n",
        "import time\n",
        "import os\n",
        "import copy\n",
        "from sklearn.metrics import confusion_matrix\n",
        "from sklearn.metrics import ConfusionMatrixDisplay\n",
        "\n",
        "\n",
        "plt.ion()   "
      ]
    },
    {
      "cell_type": "markdown",
      "source": [
        "Downloading the Data"
      ],
      "metadata": {
        "id": "WKCjkjd1ixOU"
      }
    },
    {
      "cell_type": "code",
      "source": [
        "!git clone https://github.com/SartajBhuvaji/Brain-Tumor-Classification-DataSet.git"
      ],
      "metadata": {
        "colab": {
          "base_uri": "https://localhost:8080/"
        },
        "id": "KJGJXMjjubFN",
        "outputId": "7776ab8f-8e24-4141-8632-3e75cf9dcc37"
      },
      "execution_count": 2,
      "outputs": [
        {
          "output_type": "stream",
          "name": "stdout",
          "text": [
            "Cloning into 'Brain-Tumor-Classification-DataSet'...\n",
            "remote: Enumerating objects: 3039, done.\u001b[K\n",
            "remote: Total 3039 (delta 0), reused 0 (delta 0), pack-reused 3039\u001b[K\n",
            "Receiving objects: 100% (3039/3039), 79.25 MiB | 25.08 MiB/s, done.\n"
          ]
        }
      ]
    },
    {
      "cell_type": "markdown",
      "source": [
        "Loading and Data Transformation"
      ],
      "metadata": {
        "id": "OMGO8_0ii2h4"
      }
    },
    {
      "cell_type": "code",
      "source": [
        "# Data augmentation and normalization for training\n",
        "# Just normalization for validation\n",
        "data_transforms = {\n",
        "    'Training': transforms.Compose([\n",
        "        transforms.RandomHorizontalFlip(),\n",
        "        transforms.ToTensor(),\n",
        "        transforms.Normalize([0.485, 0.456, 0.406], [0.229, 0.224, 0.225])\n",
        "    ]),\n",
        "    'Testing': transforms.Compose([\n",
        "        transforms.Resize(256),\n",
        "        transforms.ToTensor(),\n",
        "        transforms.Normalize([0.485, 0.456, 0.406], [0.229, 0.224, 0.225])\n",
        "    ]),\n",
        "}\n",
        "\n",
        "data_dir = 'Brain-Tumor-Classification-DataSet'\n",
        "image_datasets = {x: datasets.ImageFolder(os.path.join(data_dir, x),\n",
        "                                          data_transforms[x])\n",
        "                  for x in ['Training', 'Testing']}\n",
        "dataloaders = {x: torch.utils.data.DataLoader(image_datasets[x], batch_size=4,\n",
        "                                             shuffle=True, num_workers=4)\n",
        "              for x in ['Training', 'Testing']}\n",
        "dataset_sizes = {x: len(image_datasets[x]) for x in ['Training', 'Testing']}\n",
        "class_names = image_datasets['Training'].classes\n",
        "\n",
        "device = torch.device(\"cuda:0\" if torch.cuda.is_available() else \"cpu\")"
      ],
      "metadata": {
        "colab": {
          "base_uri": "https://localhost:8080/"
        },
        "id": "8i4nU0a9uHgb",
        "outputId": "ac2d5184-4482-4b55-a649-8f99ebe2c1e3"
      },
      "execution_count": 3,
      "outputs": [
        {
          "output_type": "stream",
          "name": "stderr",
          "text": [
            "/usr/local/lib/python3.7/dist-packages/torch/utils/data/dataloader.py:481: UserWarning: This DataLoader will create 4 worker processes in total. Our suggested max number of worker in current system is 2, which is smaller than what this DataLoader is going to create. Please be aware that excessive worker creation might get DataLoader running slow or even freeze, lower the worker number to avoid potential slowness/freeze if necessary.\n",
            "  cpuset_checked))\n"
          ]
        }
      ]
    },
    {
      "cell_type": "markdown",
      "source": [
        "Training"
      ],
      "metadata": {
        "id": "z5ohb1NQjM4Q"
      }
    },
    {
      "cell_type": "code",
      "source": [
        "def train_model(model, criterion, optimizer, scheduler, num_epochs=25):\n",
        "    since = time.time()\n",
        "\n",
        "    best_model_wts = copy.deepcopy(model.state_dict())\n",
        "    best_acc = 0.0\n",
        "    label_list = []\n",
        "    pred_list = []\n",
        "    train_loss_list = []\n",
        "    train_acc_list = []\n",
        "    val_loss_list = []\n",
        "    val_acc_list = []\n",
        "\n",
        "    for epoch in range(num_epochs):\n",
        "        print('Epoch {}/{}'.format(epoch, num_epochs - 1))\n",
        "        print('-' * 10)\n",
        "\n",
        "        # Each epoch has a training and validation phase\n",
        "        for phase in ['Training', 'Testing']:\n",
        "            if phase == 'Training':\n",
        "                model.train()  # Set model to training mode\n",
        "            else:\n",
        "                model.eval()   # Set model to evaluate mode\n",
        "\n",
        "            running_loss = 0.0\n",
        "            running_corrects = 0\n",
        "\n",
        "            # Iterate over data.\n",
        "            for inputs, labels in dataloaders[phase]:\n",
        "                inputs = inputs.to(device)\n",
        "                labels = labels.to(device)\n",
        "\n",
        "                # zero the parameter gradients\n",
        "                optimizer.zero_grad()\n",
        "\n",
        "                # forward\n",
        "                # track history if only in train\n",
        "                with torch.set_grad_enabled(phase == 'Training'):\n",
        "                    outputs = model(inputs)\n",
        "                    _, preds = torch.max(outputs, 1)\n",
        "                    loss = criterion(outputs, labels)\n",
        "\n",
        "                    # backward + optimize only if in training phase\n",
        "                    if phase == 'Training':\n",
        "                        loss.backward()\n",
        "                        optimizer.step()\n",
        "\n",
        "                # statistics\n",
        "                running_loss += loss.item() * inputs.size(0)\n",
        "                running_corrects += torch.sum(preds == labels.data)\n",
        "            if phase == 'Training':\n",
        "                scheduler.step()\n",
        "\n",
        "            epoch_loss = running_loss / dataset_sizes[phase]\n",
        "            epoch_acc = running_corrects.double() / dataset_sizes[phase]\n",
        "            print('{} Loss: {:.4f} Acc: {:.4f}'.format(\n",
        "                    phase, epoch_loss, epoch_acc))\n",
        "            if phase == 'Training':\n",
        "                print(epoch_loss)\n",
        "                train_loss_list += [epoch_loss]\n",
        "                print(train_loss_list)\n",
        "                train_acc_list += [epoch_acc]\n",
        "            else:\n",
        "                val_loss_list += [epoch_loss]\n",
        "                val_acc_list += [epoch_acc]\n",
        "\n",
        "            # deep copy the model\n",
        "            if phase == 'Testing' and epoch_acc > best_acc:\n",
        "                best_acc = epoch_acc\n",
        "                best_model_wts = copy.deepcopy(model.state_dict())\n",
        "\n",
        "        print()\n",
        "\n",
        "    time_elapsed = time.time() - since\n",
        "    print('Training complete in {:.0f}m {:.0f}s'.format(\n",
        "        time_elapsed // 60, time_elapsed % 60))\n",
        "    print('Best val Acc: {:4f}'.format(best_acc))\n",
        "\n",
        "    # load best model weights\n",
        "    model.load_state_dict(best_model_wts)\n",
        "    return model, train_loss_list, train_acc_list, val_loss_list, val_acc_list"
      ],
      "metadata": {
        "id": "7CEhVy17uOKS"
      },
      "execution_count": 31,
      "outputs": []
    },
    {
      "cell_type": "markdown",
      "source": [
        "Visualization"
      ],
      "metadata": {
        "id": "JifkMOrajcHi"
      }
    },
    {
      "cell_type": "code",
      "source": [
        "def visualize_model(model, num_images=6):\n",
        "    was_training = model.training\n",
        "    model.eval()\n",
        "    images_so_far = 0\n",
        "    fig = plt.figure()\n",
        "\n",
        "    with torch.no_grad():\n",
        "        for i, (inputs, labels) in enumerate(dataloaders['Testing']):\n",
        "            inputs = inputs.to(device)\n",
        "            labels = labels.to(device)\n",
        "\n",
        "            outputs = model(inputs)\n",
        "            _, preds = torch.max(outputs, 1)\n",
        "\n",
        "            for j in range(inputs.size()[0]):\n",
        "                images_so_far += 1\n",
        "                ax = plt.subplot(num_images//2, 2, images_so_far)\n",
        "                ax.axis('off')\n",
        "                ax.set_title('predicted: {}'.format(class_names[preds[j]]))\n",
        "                imshow(inputs.cpu().data[j])\n",
        "\n",
        "                if images_so_far == num_images:\n",
        "                    model.train(mode=was_training)\n",
        "                    return\n",
        "        model.train(mode=was_training)"
      ],
      "metadata": {
        "id": "e1d9yCwfuQpo"
      },
      "execution_count": 6,
      "outputs": []
    },
    {
      "cell_type": "markdown",
      "source": [
        "Model Evaluation"
      ],
      "metadata": {
        "id": "QLlLIAKKjeG9"
      }
    },
    {
      "cell_type": "code",
      "source": [
        "def get_predictions(model, iterator, device):\n",
        "    labels = []\n",
        "    probs = []\n",
        "    model.eval()\n",
        "    with torch.no_grad():\n",
        "        for i, (x, y) in enumerate(iterator):\n",
        "            x = x.to(device)\n",
        "            y = y.to(device)\n",
        "            outputs = model(x)\n",
        "            _, y_preds = torch.max(outputs, 1)\n",
        "            # y_pred, _ = model(x)\n",
        "            labels += [y]\n",
        "            probs += [y_preds]\n",
        "    labels = torch.cat(labels, dim = 0)\n",
        "    probs = torch.cat(probs, dim = 0)\n",
        "    return labels, probs"
      ],
      "metadata": {
        "id": "WCNPm9cC5xsQ"
      },
      "execution_count": 7,
      "outputs": []
    },
    {
      "cell_type": "markdown",
      "source": [
        "VGG16"
      ],
      "metadata": {
        "id": "iEQR-5GIjjW1"
      }
    },
    {
      "cell_type": "code",
      "source": [
        "# ---------- VGG16\n",
        "model_ft = models.vgg16(pretrained=True)\n",
        "\n",
        "n_inputs = model_ft.classifier[6].in_features\n",
        "\n",
        "model_ft.classifier[6] = nn.Sequential(\n",
        "      nn.Linear(in_features=n_inputs, out_features=256),\n",
        "      nn.ReLU(),\n",
        "      nn.Dropout(p=0.5,inplace=False),\n",
        "      nn.Linear(256,4), # Output Dimension is 4\n",
        "      nn.LogSoftmax(dim=1)\n",
        "      )\n",
        "\n",
        "model_ft = model_ft.to(device)\n",
        "\n",
        "criterion = nn.CrossEntropyLoss()\n",
        "\n",
        "# Observe that all parameters are being optimized\n",
        "optimizer_ft = optim.SGD(model_ft.parameters(), lr=0.001, momentum=0.9)\n",
        "\n",
        "# Decay LR by a factor of 0.1 every 7 epochs\n",
        "exp_lr_scheduler = lr_scheduler.StepLR(optimizer_ft, step_size=7, gamma=0.1)"
      ],
      "metadata": {
        "id": "QQgQwchauTPO"
      },
      "execution_count": 40,
      "outputs": []
    },
    {
      "cell_type": "markdown",
      "source": [
        "Train and Evaluate"
      ],
      "metadata": {
        "id": "DdkzOlYrjxt-"
      }
    },
    {
      "cell_type": "code",
      "source": [
        "model_ft, model_tr_loss, model_tr_acc, model_val_loss, model_val_acc = train_model(model_ft, criterion, optimizer_ft, exp_lr_scheduler,\n",
        "                       num_epochs=25)"
      ],
      "metadata": {
        "colab": {
          "base_uri": "https://localhost:8080/"
        },
        "id": "qSdX-gXRuVZr",
        "outputId": "43e57b8b-83cd-440b-8f6f-fa3ac9402cc8"
      },
      "execution_count": 41,
      "outputs": [
        {
          "output_type": "stream",
          "name": "stdout",
          "text": [
            "Epoch 0/24\n",
            "----------\n"
          ]
        },
        {
          "output_type": "stream",
          "name": "stderr",
          "text": [
            "/usr/local/lib/python3.7/dist-packages/torch/utils/data/dataloader.py:481: UserWarning: This DataLoader will create 4 worker processes in total. Our suggested max number of worker in current system is 2, which is smaller than what this DataLoader is going to create. Please be aware that excessive worker creation might get DataLoader running slow or even freeze, lower the worker number to avoid potential slowness/freeze if necessary.\n",
            "  cpuset_checked))\n"
          ]
        },
        {
          "output_type": "stream",
          "name": "stdout",
          "text": [
            "Training Loss: 0.9445 Acc: 0.6073\n",
            "0.944498771201261\n",
            "[0.944498771201261]\n",
            "Testing Loss: 0.9221 Acc: 0.6726\n",
            "\n",
            "Epoch 1/24\n",
            "----------\n",
            "Training Loss: 0.6492 Acc: 0.7617\n",
            "0.6491988403721022\n",
            "[0.944498771201261, 0.6491988403721022]\n",
            "Testing Loss: 0.9872 Acc: 0.6523\n",
            "\n",
            "Epoch 2/24\n",
            "----------\n",
            "Training Loss: 0.4956 Acc: 0.8202\n",
            "0.4955560640842842\n",
            "[0.944498771201261, 0.6491988403721022, 0.4955560640842842]\n",
            "Testing Loss: 1.4629 Acc: 0.6980\n",
            "\n",
            "Epoch 3/24\n",
            "----------\n",
            "Training Loss: 0.4066 Acc: 0.8537\n",
            "0.406631625266194\n",
            "[0.944498771201261, 0.6491988403721022, 0.4955560640842842, 0.406631625266194]\n",
            "Testing Loss: 0.9239 Acc: 0.7335\n",
            "\n",
            "Epoch 4/24\n",
            "----------\n",
            "Training Loss: 0.4138 Acc: 0.8561\n",
            "0.41377493517407626\n",
            "[0.944498771201261, 0.6491988403721022, 0.4955560640842842, 0.406631625266194, 0.41377493517407626]\n",
            "Testing Loss: 1.0286 Acc: 0.6980\n",
            "\n",
            "Epoch 5/24\n",
            "----------\n",
            "Training Loss: 0.3354 Acc: 0.8756\n",
            "0.33543253978910825\n",
            "[0.944498771201261, 0.6491988403721022, 0.4955560640842842, 0.406631625266194, 0.41377493517407626, 0.33543253978910825]\n",
            "Testing Loss: 1.2578 Acc: 0.7335\n",
            "\n",
            "Epoch 6/24\n",
            "----------\n",
            "Training Loss: 0.3154 Acc: 0.8944\n",
            "0.31543708368615636\n",
            "[0.944498771201261, 0.6491988403721022, 0.4955560640842842, 0.406631625266194, 0.41377493517407626, 0.33543253978910825, 0.31543708368615636]\n",
            "Testing Loss: 1.1733 Acc: 0.7893\n",
            "\n",
            "Epoch 7/24\n",
            "----------\n",
            "Training Loss: 0.1908 Acc: 0.9383\n",
            "0.19078907502664139\n",
            "[0.944498771201261, 0.6491988403721022, 0.4955560640842842, 0.406631625266194, 0.41377493517407626, 0.33543253978910825, 0.31543708368615636, 0.19078907502664139]\n",
            "Testing Loss: 1.1495 Acc: 0.7919\n",
            "\n",
            "Epoch 8/24\n",
            "----------\n",
            "Training Loss: 0.1688 Acc: 0.9359\n",
            "0.16882622615661483\n",
            "[0.944498771201261, 0.6491988403721022, 0.4955560640842842, 0.406631625266194, 0.41377493517407626, 0.33543253978910825, 0.31543708368615636, 0.19078907502664139, 0.16882622615661483]\n",
            "Testing Loss: 1.0810 Acc: 0.7919\n",
            "\n",
            "Epoch 9/24\n",
            "----------\n",
            "Training Loss: 0.1395 Acc: 0.9491\n",
            "0.13946887386821258\n",
            "[0.944498771201261, 0.6491988403721022, 0.4955560640842842, 0.406631625266194, 0.41377493517407626, 0.33543253978910825, 0.31543708368615636, 0.19078907502664139, 0.16882622615661483, 0.13946887386821258]\n",
            "Testing Loss: 1.2977 Acc: 0.7893\n",
            "\n",
            "Epoch 10/24\n",
            "----------\n",
            "Training Loss: 0.1548 Acc: 0.9432\n",
            "0.15483310000999145\n",
            "[0.944498771201261, 0.6491988403721022, 0.4955560640842842, 0.406631625266194, 0.41377493517407626, 0.33543253978910825, 0.31543708368615636, 0.19078907502664139, 0.16882622615661483, 0.13946887386821258, 0.15483310000999145]\n",
            "Testing Loss: 1.0819 Acc: 0.7970\n",
            "\n",
            "Epoch 11/24\n",
            "----------\n",
            "Training Loss: 0.1447 Acc: 0.9460\n",
            "0.14469221966454468\n",
            "[0.944498771201261, 0.6491988403721022, 0.4955560640842842, 0.406631625266194, 0.41377493517407626, 0.33543253978910825, 0.31543708368615636, 0.19078907502664139, 0.16882622615661483, 0.13946887386821258, 0.15483310000999145, 0.14469221966454468]\n",
            "Testing Loss: 1.4500 Acc: 0.7614\n",
            "\n",
            "Epoch 12/24\n",
            "----------\n",
            "Training Loss: 0.1307 Acc: 0.9530\n",
            "0.13070591121742983\n",
            "[0.944498771201261, 0.6491988403721022, 0.4955560640842842, 0.406631625266194, 0.41377493517407626, 0.33543253978910825, 0.31543708368615636, 0.19078907502664139, 0.16882622615661483, 0.13946887386821258, 0.15483310000999145, 0.14469221966454468, 0.13070591121742983]\n",
            "Testing Loss: 1.5332 Acc: 0.7741\n",
            "\n",
            "Epoch 13/24\n",
            "----------\n",
            "Training Loss: 0.1398 Acc: 0.9484\n",
            "0.13975506525324094\n",
            "[0.944498771201261, 0.6491988403721022, 0.4955560640842842, 0.406631625266194, 0.41377493517407626, 0.33543253978910825, 0.31543708368615636, 0.19078907502664139, 0.16882622615661483, 0.13946887386821258, 0.15483310000999145, 0.14469221966454468, 0.13070591121742983, 0.13975506525324094]\n",
            "Testing Loss: 1.2334 Acc: 0.7817\n",
            "\n",
            "Epoch 14/24\n",
            "----------\n",
            "Training Loss: 0.1351 Acc: 0.9551\n",
            "0.1350783453084802\n",
            "[0.944498771201261, 0.6491988403721022, 0.4955560640842842, 0.406631625266194, 0.41377493517407626, 0.33543253978910825, 0.31543708368615636, 0.19078907502664139, 0.16882622615661483, 0.13946887386821258, 0.15483310000999145, 0.14469221966454468, 0.13070591121742983, 0.13975506525324094, 0.1350783453084802]\n",
            "Testing Loss: 1.2607 Acc: 0.7817\n",
            "\n",
            "Epoch 15/24\n",
            "----------\n",
            "Training Loss: 0.1309 Acc: 0.9530\n",
            "0.13090898240254226\n",
            "[0.944498771201261, 0.6491988403721022, 0.4955560640842842, 0.406631625266194, 0.41377493517407626, 0.33543253978910825, 0.31543708368615636, 0.19078907502664139, 0.16882622615661483, 0.13946887386821258, 0.15483310000999145, 0.14469221966454468, 0.13070591121742983, 0.13975506525324094, 0.1350783453084802, 0.13090898240254226]\n",
            "Testing Loss: 1.2958 Acc: 0.7817\n",
            "\n",
            "Epoch 16/24\n",
            "----------\n",
            "Training Loss: 0.1199 Acc: 0.9571\n",
            "0.11987214541603457\n",
            "[0.944498771201261, 0.6491988403721022, 0.4955560640842842, 0.406631625266194, 0.41377493517407626, 0.33543253978910825, 0.31543708368615636, 0.19078907502664139, 0.16882622615661483, 0.13946887386821258, 0.15483310000999145, 0.14469221966454468, 0.13070591121742983, 0.13975506525324094, 0.1350783453084802, 0.13090898240254226, 0.11987214541603457]\n",
            "Testing Loss: 1.3261 Acc: 0.7766\n",
            "\n",
            "Epoch 17/24\n",
            "----------\n",
            "Training Loss: 0.1237 Acc: 0.9551\n",
            "0.12366890602950563\n",
            "[0.944498771201261, 0.6491988403721022, 0.4955560640842842, 0.406631625266194, 0.41377493517407626, 0.33543253978910825, 0.31543708368615636, 0.19078907502664139, 0.16882622615661483, 0.13946887386821258, 0.15483310000999145, 0.14469221966454468, 0.13070591121742983, 0.13975506525324094, 0.1350783453084802, 0.13090898240254226, 0.11987214541603457, 0.12366890602950563]\n",
            "Testing Loss: 1.3064 Acc: 0.7868\n",
            "\n",
            "Epoch 18/24\n",
            "----------\n",
            "Training Loss: 0.1336 Acc: 0.9530\n",
            "0.13358870483546792\n",
            "[0.944498771201261, 0.6491988403721022, 0.4955560640842842, 0.406631625266194, 0.41377493517407626, 0.33543253978910825, 0.31543708368615636, 0.19078907502664139, 0.16882622615661483, 0.13946887386821258, 0.15483310000999145, 0.14469221966454468, 0.13070591121742983, 0.13975506525324094, 0.1350783453084802, 0.13090898240254226, 0.11987214541603457, 0.12366890602950563, 0.13358870483546792]\n",
            "Testing Loss: 1.3265 Acc: 0.7817\n",
            "\n",
            "Epoch 19/24\n",
            "----------\n",
            "Training Loss: 0.1241 Acc: 0.9540\n",
            "0.12407967317112374\n",
            "[0.944498771201261, 0.6491988403721022, 0.4955560640842842, 0.406631625266194, 0.41377493517407626, 0.33543253978910825, 0.31543708368615636, 0.19078907502664139, 0.16882622615661483, 0.13946887386821258, 0.15483310000999145, 0.14469221966454468, 0.13070591121742983, 0.13975506525324094, 0.1350783453084802, 0.13090898240254226, 0.11987214541603457, 0.12366890602950563, 0.13358870483546792, 0.12407967317112374]\n",
            "Testing Loss: 1.3295 Acc: 0.7817\n",
            "\n",
            "Epoch 20/24\n",
            "----------\n",
            "Training Loss: 0.1150 Acc: 0.9571\n",
            "0.11497277796548264\n",
            "[0.944498771201261, 0.6491988403721022, 0.4955560640842842, 0.406631625266194, 0.41377493517407626, 0.33543253978910825, 0.31543708368615636, 0.19078907502664139, 0.16882622615661483, 0.13946887386821258, 0.15483310000999145, 0.14469221966454468, 0.13070591121742983, 0.13975506525324094, 0.1350783453084802, 0.13090898240254226, 0.11987214541603457, 0.12366890602950563, 0.13358870483546792, 0.12407967317112374, 0.11497277796548264]\n",
            "Testing Loss: 1.3434 Acc: 0.7868\n",
            "\n",
            "Epoch 21/24\n",
            "----------\n",
            "Training Loss: 0.1140 Acc: 0.9585\n",
            "0.11399573832990338\n",
            "[0.944498771201261, 0.6491988403721022, 0.4955560640842842, 0.406631625266194, 0.41377493517407626, 0.33543253978910825, 0.31543708368615636, 0.19078907502664139, 0.16882622615661483, 0.13946887386821258, 0.15483310000999145, 0.14469221966454468, 0.13070591121742983, 0.13975506525324094, 0.1350783453084802, 0.13090898240254226, 0.11987214541603457, 0.12366890602950563, 0.13358870483546792, 0.12407967317112374, 0.11497277796548264, 0.11399573832990338]\n",
            "Testing Loss: 1.3392 Acc: 0.7868\n",
            "\n",
            "Epoch 22/24\n",
            "----------\n",
            "Training Loss: 0.1205 Acc: 0.9554\n",
            "0.12054538378710884\n",
            "[0.944498771201261, 0.6491988403721022, 0.4955560640842842, 0.406631625266194, 0.41377493517407626, 0.33543253978910825, 0.31543708368615636, 0.19078907502664139, 0.16882622615661483, 0.13946887386821258, 0.15483310000999145, 0.14469221966454468, 0.13070591121742983, 0.13975506525324094, 0.1350783453084802, 0.13090898240254226, 0.11987214541603457, 0.12366890602950563, 0.13358870483546792, 0.12407967317112374, 0.11497277796548264, 0.11399573832990338, 0.12054538378710884]\n",
            "Testing Loss: 1.3369 Acc: 0.7868\n",
            "\n",
            "Epoch 23/24\n",
            "----------\n",
            "Training Loss: 0.1194 Acc: 0.9551\n",
            "0.11941746771609686\n",
            "[0.944498771201261, 0.6491988403721022, 0.4955560640842842, 0.406631625266194, 0.41377493517407626, 0.33543253978910825, 0.31543708368615636, 0.19078907502664139, 0.16882622615661483, 0.13946887386821258, 0.15483310000999145, 0.14469221966454468, 0.13070591121742983, 0.13975506525324094, 0.1350783453084802, 0.13090898240254226, 0.11987214541603457, 0.12366890602950563, 0.13358870483546792, 0.12407967317112374, 0.11497277796548264, 0.11399573832990338, 0.12054538378710884, 0.11941746771609686]\n",
            "Testing Loss: 1.3394 Acc: 0.7868\n",
            "\n",
            "Epoch 24/24\n",
            "----------\n",
            "Training Loss: 0.1156 Acc: 0.9606\n",
            "0.11557235116339676\n",
            "[0.944498771201261, 0.6491988403721022, 0.4955560640842842, 0.406631625266194, 0.41377493517407626, 0.33543253978910825, 0.31543708368615636, 0.19078907502664139, 0.16882622615661483, 0.13946887386821258, 0.15483310000999145, 0.14469221966454468, 0.13070591121742983, 0.13975506525324094, 0.1350783453084802, 0.13090898240254226, 0.11987214541603457, 0.12366890602950563, 0.13358870483546792, 0.12407967317112374, 0.11497277796548264, 0.11399573832990338, 0.12054538378710884, 0.11941746771609686, 0.11557235116339676]\n",
            "Testing Loss: 1.3360 Acc: 0.7868\n",
            "\n",
            "Training complete in 95m 24s\n",
            "Best val Acc: 0.796954\n"
          ]
        }
      ]
    },
    {
      "cell_type": "code",
      "source": [
        "labels, probs = get_predictions(model_ft, dataloaders['Testing'], device)\n",
        "labels = labels.cpu().numpy()\n",
        "probs = probs.cpu().numpy()"
      ],
      "metadata": {
        "id": "m2uG0xW56DtC",
        "colab": {
          "base_uri": "https://localhost:8080/"
        },
        "outputId": "3b57897a-4b60-43a9-e496-2bddd4fd1175"
      },
      "execution_count": 42,
      "outputs": [
        {
          "output_type": "stream",
          "name": "stderr",
          "text": [
            "/usr/local/lib/python3.7/dist-packages/torch/utils/data/dataloader.py:481: UserWarning: This DataLoader will create 4 worker processes in total. Our suggested max number of worker in current system is 2, which is smaller than what this DataLoader is going to create. Please be aware that excessive worker creation might get DataLoader running slow or even freeze, lower the worker number to avoid potential slowness/freeze if necessary.\n",
            "  cpuset_checked))\n"
          ]
        }
      ]
    },
    {
      "cell_type": "markdown",
      "source": [
        "Visualizing the Model Loss"
      ],
      "metadata": {
        "id": "0vbryXBPj9vg"
      }
    },
    {
      "cell_type": "code",
      "source": [
        "# ------------ Plot loss and Acc curves\n",
        "plt.plot(model_tr_loss, label = 'train')\n",
        "plt.plot(model_val_loss, label = 'validation')\n",
        "plt.title('Model loss')\n",
        "plt.ylabel('loss')\n",
        "plt.xlabel('epoch')\n",
        "plt.legend(loc='upper right')\n",
        "plt.show()"
      ],
      "metadata": {
        "id": "Mixevpaw7n0E",
        "colab": {
          "base_uri": "https://localhost:8080/",
          "height": 295
        },
        "outputId": "a86890cb-8b6a-4059-87e0-a83ace6bf2a5"
      },
      "execution_count": 43,
      "outputs": [
        {
          "output_type": "display_data",
          "data": {
            "image/png": "[encoded data removed]",
            "text/plain": [
              "<Figure size 432x288 with 1 Axes>"
            ]
          },
          "metadata": {
            "needs_background": "light"
          }
        }
      ]
    },
    {
      "cell_type": "markdown",
      "source": [
        "Visualizing the Model Accuracy"
      ],
      "metadata": {
        "id": "yVnwkeMTkC9g"
      }
    },
    {
      "cell_type": "code",
      "source": [
        "# ------------ Plot loss and Acc curves\n",
        "plt.plot(model_tr_acc, label = 'train')\n",
        "plt.plot(model_val_acc, label = 'validation')\n",
        "plt.title('Model Accuracy')\n",
        "plt.ylabel('accuracy')\n",
        "plt.xlabel('epoch')\n",
        "plt.legend(loc='upper right')\n",
        "plt.show()"
      ],
      "metadata": {
        "colab": {
          "base_uri": "https://localhost:8080/",
          "height": 295
        },
        "id": "cm_91egF4x2g",
        "outputId": "2af32dbd-ab57-4723-8d96-2f3f1336000b"
      },
      "execution_count": 44,
      "outputs": [
        {
          "output_type": "display_data",
          "data": {
            "image/png": "[encoded data removed]",
            "text/plain": [
              "<Figure size 432x288 with 1 Axes>"
            ]
          },
          "metadata": {
            "needs_background": "light"
          }
        }
      ]
    },
    {
      "cell_type": "markdown",
      "source": [
        "Confusion Matrix"
      ],
      "metadata": {
        "id": "ItOgmB7OkGRw"
      }
    },
    {
      "cell_type": "code",
      "source": [
        "def plot_confusion_matrix(labels, pred_labels, classes):\n",
        "    fig = plt.figure(figsize = (10, 10));\n",
        "    ax = fig.add_subplot(1, 1, 1);\n",
        "    cm = confusion_matrix(labels, pred_labels);\n",
        "    cm = ConfusionMatrixDisplay(cm, display_labels = classes);\n",
        "    cm.plot(values_format = 'd', cmap = 'Blues', ax = ax)\n",
        "    plt.xticks(rotation = 20)"
      ],
      "metadata": {
        "id": "7I2DbAIE3KYc"
      },
      "execution_count": 45,
      "outputs": []
    },
    {
      "cell_type": "code",
      "source": [
        "plot_confusion_matrix(labels, probs, class_names)"
      ],
      "metadata": {
        "colab": {
          "base_uri": "https://localhost:8080/",
          "height": 590
        },
        "id": "PQvYzaMLCA3s",
        "outputId": "32e22346-7feb-4c61-f87f-12021f48473c"
      },
      "execution_count": 46,
      "outputs": [
        {
          "output_type": "display_data",
          "data": {
            "image/png": "[encoded data removed]",
            "text/plain": [
              "<Figure size 720x720 with 2 Axes>"
            ]
          },
          "metadata": {
            "needs_background": "light"
          }
        }
      ]
    },
    {
      "cell_type": "markdown",
      "source": [
        "Resnet18"
      ],
      "metadata": {
        "id": "XwNgpkGWkIpG"
      }
    },
    {
      "cell_type": "code",
      "source": [
        "# --------- resnet 18 with SGD\n",
        "\n",
        "model_ft_vnet_s = models.resnet18(pretrained=True)\n",
        "\n",
        "# for param in model_ft_vnet_s.parameters():\n",
        "#     param.requires_grad = False\n",
        "\n",
        "num_ftrs = model_ft_vnet_s.fc.in_features\n",
        "\n",
        "# Here the size of each output sample is set to 4.\n",
        "# Alternatively, it can be generalized to nn.Linear(num_ftrs, len(class_names)).\n",
        "model_ft_vnet_s.fc = nn.Linear(num_ftrs, 4)\n",
        "\n",
        "model_ft_vnet_s = model_ft_vnet_s.to(device)\n",
        "\n",
        "criterion = nn.CrossEntropyLoss()\n",
        "\n",
        "# Observe that all parameters are being optimized\n",
        "optimizer_ft_vnet_s = optim.SGD(model_ft_vnet_s.parameters(), lr=0.001, momentum=0.9)\n",
        "\n",
        "# Decay LR by a factor of 0.1 every 7 epochs\n",
        "exp_lr_scheduler_vnet_s = lr_scheduler.StepLR(optimizer_ft_vnet_s, step_size=7, gamma=0.1)\n",
        "\n",
        "\n",
        "model_ft_vnet_s, model_tr_loss_v, model_tr_acc_v, model_val_loss_v, model_val_acc_v = train_model(model_ft_vnet_s, criterion, optimizer_ft_vnet_s, exp_lr_scheduler_vnet_s,\n",
        "                       num_epochs=25)"
      ],
      "metadata": {
        "colab": {
          "base_uri": "https://localhost:8080/"
        },
        "id": "N5UUhqp6Ujmo",
        "outputId": "2912fe81-0b4f-4f04-9d94-ee99e15f944b"
      },
      "execution_count": 36,
      "outputs": [
        {
          "output_type": "stream",
          "name": "stdout",
          "text": [
            "Epoch 0/24\n",
            "----------\n"
          ]
        },
        {
          "output_type": "stream",
          "name": "stderr",
          "text": [
            "/usr/local/lib/python3.7/dist-packages/torch/utils/data/dataloader.py:481: UserWarning: This DataLoader will create 4 worker processes in total. Our suggested max number of worker in current system is 2, which is smaller than what this DataLoader is going to create. Please be aware that excessive worker creation might get DataLoader running slow or even freeze, lower the worker number to avoid potential slowness/freeze if necessary.\n",
            "  cpuset_checked))\n"
          ]
        },
        {
          "output_type": "stream",
          "name": "stdout",
          "text": [
            "Training Loss: 0.9708 Acc: 0.6328\n",
            "0.9707503869039257\n",
            "[0.9707503869039257]\n",
            "Testing Loss: 1.3075 Acc: 0.6320\n",
            "\n",
            "Epoch 1/24\n",
            "----------\n",
            "Training Loss: 0.6962 Acc: 0.7460\n",
            "0.6962192205932861\n",
            "[0.9707503869039257, 0.6962192205932861]\n",
            "Testing Loss: 1.6528 Acc: 0.6878\n",
            "\n",
            "Epoch 2/24\n",
            "----------\n",
            "Training Loss: 0.7015 Acc: 0.7596\n",
            "0.7015329129448751\n",
            "[0.9707503869039257, 0.6962192205932861, 0.7015329129448751]\n",
            "Testing Loss: 1.7269 Acc: 0.6675\n",
            "\n",
            "Epoch 3/24\n",
            "----------\n",
            "Training Loss: 0.5425 Acc: 0.8010\n",
            "0.5424775899566372\n",
            "[0.9707503869039257, 0.6962192205932861, 0.7015329129448751, 0.5424775899566372]\n",
            "Testing Loss: 1.2081 Acc: 0.7386\n",
            "\n",
            "Epoch 4/24\n",
            "----------\n",
            "Training Loss: 0.4660 Acc: 0.8338\n",
            "0.46601093209442723\n",
            "[0.9707503869039257, 0.6962192205932861, 0.7015329129448751, 0.5424775899566372, 0.46601093209442723]\n",
            "Testing Loss: 1.9522 Acc: 0.6853\n",
            "\n",
            "Epoch 5/24\n",
            "----------\n",
            "Training Loss: 0.4909 Acc: 0.8317\n",
            "0.49091712219465383\n",
            "[0.9707503869039257, 0.6962192205932861, 0.7015329129448751, 0.5424775899566372, 0.46601093209442723, 0.49091712219465383]\n",
            "Testing Loss: 1.4164 Acc: 0.7259\n",
            "\n",
            "Epoch 6/24\n",
            "----------\n",
            "Training Loss: 0.4298 Acc: 0.8533\n",
            "0.4297660858269768\n",
            "[0.9707503869039257, 0.6962192205932861, 0.7015329129448751, 0.5424775899566372, 0.46601093209442723, 0.49091712219465383, 0.4297660858269768]\n",
            "Testing Loss: 1.3060 Acc: 0.7970\n",
            "\n",
            "Epoch 7/24\n",
            "----------\n",
            "Training Loss: 0.3016 Acc: 0.8948\n",
            "0.30163644828836883\n",
            "[0.9707503869039257, 0.6962192205932861, 0.7015329129448751, 0.5424775899566372, 0.46601093209442723, 0.49091712219465383, 0.4297660858269768, 0.30163644828836883]\n",
            "Testing Loss: 1.3376 Acc: 0.7589\n",
            "\n",
            "Epoch 8/24\n",
            "----------\n",
            "Training Loss: 0.3083 Acc: 0.8923\n",
            "0.30834413560542184\n",
            "[0.9707503869039257, 0.6962192205932861, 0.7015329129448751, 0.5424775899566372, 0.46601093209442723, 0.49091712219465383, 0.4297660858269768, 0.30163644828836883, 0.30834413560542184]\n",
            "Testing Loss: 0.8970 Acc: 0.8147\n",
            "\n",
            "Epoch 9/24\n",
            "----------\n",
            "Training Loss: 0.2717 Acc: 0.9031\n",
            "0.27173101069464084\n",
            "[0.9707503869039257, 0.6962192205932861, 0.7015329129448751, 0.5424775899566372, 0.46601093209442723, 0.49091712219465383, 0.4297660858269768, 0.30163644828836883, 0.30834413560542184, 0.27173101069464084]\n",
            "Testing Loss: 1.2913 Acc: 0.7741\n",
            "\n",
            "Epoch 10/24\n",
            "----------\n",
            "Training Loss: 0.2421 Acc: 0.9209\n",
            "0.24210946675688547\n",
            "[0.9707503869039257, 0.6962192205932861, 0.7015329129448751, 0.5424775899566372, 0.46601093209442723, 0.49091712219465383, 0.4297660858269768, 0.30163644828836883, 0.30834413560542184, 0.27173101069464084, 0.24210946675688547]\n",
            "Testing Loss: 1.2411 Acc: 0.7690\n",
            "\n",
            "Epoch 11/24\n",
            "----------\n",
            "Training Loss: 0.2522 Acc: 0.9136\n",
            "0.25222253934171973\n",
            "[0.9707503869039257, 0.6962192205932861, 0.7015329129448751, 0.5424775899566372, 0.46601093209442723, 0.49091712219465383, 0.4297660858269768, 0.30163644828836883, 0.30834413560542184, 0.27173101069464084, 0.24210946675688547, 0.25222253934171973]\n",
            "Testing Loss: 1.2735 Acc: 0.7843\n",
            "\n",
            "Epoch 12/24\n",
            "----------\n",
            "Training Loss: 0.2605 Acc: 0.9150\n",
            "0.26054198049781163\n",
            "[0.9707503869039257, 0.6962192205932861, 0.7015329129448751, 0.5424775899566372, 0.46601093209442723, 0.49091712219465383, 0.4297660858269768, 0.30163644828836883, 0.30834413560542184, 0.27173101069464084, 0.24210946675688547, 0.25222253934171973, 0.26054198049781163]\n",
            "Testing Loss: 1.0233 Acc: 0.8173\n",
            "\n",
            "Epoch 13/24\n",
            "----------\n",
            "Training Loss: 0.2129 Acc: 0.9286\n",
            "0.21292228272853206\n",
            "[0.9707503869039257, 0.6962192205932861, 0.7015329129448751, 0.5424775899566372, 0.46601093209442723, 0.49091712219465383, 0.4297660858269768, 0.30163644828836883, 0.30834413560542184, 0.27173101069464084, 0.24210946675688547, 0.25222253934171973, 0.26054198049781163, 0.21292228272853206]\n",
            "Testing Loss: 1.2165 Acc: 0.7970\n",
            "\n",
            "Epoch 14/24\n",
            "----------\n",
            "Training Loss: 0.2341 Acc: 0.9209\n",
            "0.23407432067723952\n",
            "[0.9707503869039257, 0.6962192205932861, 0.7015329129448751, 0.5424775899566372, 0.46601093209442723, 0.49091712219465383, 0.4297660858269768, 0.30163644828836883, 0.30834413560542184, 0.27173101069464084, 0.24210946675688547, 0.25222253934171973, 0.26054198049781163, 0.21292228272853206, 0.23407432067723952]\n",
            "Testing Loss: 1.1437 Acc: 0.7766\n",
            "\n",
            "Epoch 15/24\n",
            "----------\n",
            "Training Loss: 0.2131 Acc: 0.9341\n",
            "0.21305136546258935\n",
            "[0.9707503869039257, 0.6962192205932861, 0.7015329129448751, 0.5424775899566372, 0.46601093209442723, 0.49091712219465383, 0.4297660858269768, 0.30163644828836883, 0.30834413560542184, 0.27173101069464084, 0.24210946675688547, 0.25222253934171973, 0.26054198049781163, 0.21292228272853206, 0.23407432067723952, 0.21305136546258935]\n",
            "Testing Loss: 1.0556 Acc: 0.8046\n",
            "\n",
            "Epoch 16/24\n",
            "----------\n",
            "Training Loss: 0.2148 Acc: 0.9289\n",
            "0.21483647466023884\n",
            "[0.9707503869039257, 0.6962192205932861, 0.7015329129448751, 0.5424775899566372, 0.46601093209442723, 0.49091712219465383, 0.4297660858269768, 0.30163644828836883, 0.30834413560542184, 0.27173101069464084, 0.24210946675688547, 0.25222253934171973, 0.26054198049781163, 0.21292228272853206, 0.23407432067723952, 0.21305136546258935, 0.21483647466023884]\n",
            "Testing Loss: 1.2163 Acc: 0.7792\n",
            "\n",
            "Epoch 17/24\n",
            "----------\n",
            "Training Loss: 0.2062 Acc: 0.9300\n",
            "0.2062096098145853\n",
            "[0.9707503869039257, 0.6962192205932861, 0.7015329129448751, 0.5424775899566372, 0.46601093209442723, 0.49091712219465383, 0.4297660858269768, 0.30163644828836883, 0.30834413560542184, 0.27173101069464084, 0.24210946675688547, 0.25222253934171973, 0.26054198049781163, 0.21292228272853206, 0.23407432067723952, 0.21305136546258935, 0.21483647466023884, 0.2062096098145853]\n",
            "Testing Loss: 1.2268 Acc: 0.7665\n",
            "\n",
            "Epoch 18/24\n",
            "----------\n",
            "Training Loss: 0.2269 Acc: 0.9213\n",
            "0.22693266268066725\n",
            "[0.9707503869039257, 0.6962192205932861, 0.7015329129448751, 0.5424775899566372, 0.46601093209442723, 0.49091712219465383, 0.4297660858269768, 0.30163644828836883, 0.30834413560542184, 0.27173101069464084, 0.24210946675688547, 0.25222253934171973, 0.26054198049781163, 0.21292228272853206, 0.23407432067723952, 0.21305136546258935, 0.21483647466023884, 0.2062096098145853, 0.22693266268066725]\n",
            "Testing Loss: 1.2555 Acc: 0.7690\n",
            "\n",
            "Epoch 19/24\n",
            "----------\n",
            "Training Loss: 0.2239 Acc: 0.9237\n",
            "0.22386366783508233\n",
            "[0.9707503869039257, 0.6962192205932861, 0.7015329129448751, 0.5424775899566372, 0.46601093209442723, 0.49091712219465383, 0.4297660858269768, 0.30163644828836883, 0.30834413560542184, 0.27173101069464084, 0.24210946675688547, 0.25222253934171973, 0.26054198049781163, 0.21292228272853206, 0.23407432067723952, 0.21305136546258935, 0.21483647466023884, 0.2062096098145853, 0.22693266268066725, 0.22386366783508233]\n",
            "Testing Loss: 1.3994 Acc: 0.7665\n",
            "\n",
            "Epoch 20/24\n",
            "----------\n",
            "Training Loss: 0.2421 Acc: 0.9226\n",
            "0.24206017937887628\n",
            "[0.9707503869039257, 0.6962192205932861, 0.7015329129448751, 0.5424775899566372, 0.46601093209442723, 0.49091712219465383, 0.4297660858269768, 0.30163644828836883, 0.30834413560542184, 0.27173101069464084, 0.24210946675688547, 0.25222253934171973, 0.26054198049781163, 0.21292228272853206, 0.23407432067723952, 0.21305136546258935, 0.21483647466023884, 0.2062096098145853, 0.22693266268066725, 0.22386366783508233, 0.24206017937887628]\n",
            "Testing Loss: 1.2332 Acc: 0.7817\n",
            "\n",
            "Epoch 21/24\n",
            "----------\n",
            "Training Loss: 0.2359 Acc: 0.9202\n",
            "0.23591428322633176\n",
            "[0.9707503869039257, 0.6962192205932861, 0.7015329129448751, 0.5424775899566372, 0.46601093209442723, 0.49091712219465383, 0.4297660858269768, 0.30163644828836883, 0.30834413560542184, 0.27173101069464084, 0.24210946675688547, 0.25222253934171973, 0.26054198049781163, 0.21292228272853206, 0.23407432067723952, 0.21305136546258935, 0.21483647466023884, 0.2062096098145853, 0.22693266268066725, 0.22386366783508233, 0.24206017937887628, 0.23591428322633176]\n",
            "Testing Loss: 1.0849 Acc: 0.7893\n",
            "\n",
            "Epoch 22/24\n",
            "----------\n",
            "Training Loss: 0.1968 Acc: 0.9376\n",
            "0.19684266766747427\n",
            "[0.9707503869039257, 0.6962192205932861, 0.7015329129448751, 0.5424775899566372, 0.46601093209442723, 0.49091712219465383, 0.4297660858269768, 0.30163644828836883, 0.30834413560542184, 0.27173101069464084, 0.24210946675688547, 0.25222253934171973, 0.26054198049781163, 0.21292228272853206, 0.23407432067723952, 0.21305136546258935, 0.21483647466023884, 0.2062096098145853, 0.22693266268066725, 0.22386366783508233, 0.24206017937887628, 0.23591428322633176, 0.19684266766747427]\n",
            "Testing Loss: 1.1004 Acc: 0.7919\n",
            "\n",
            "Epoch 23/24\n",
            "----------\n",
            "Training Loss: 0.2319 Acc: 0.9244\n",
            "0.2319217910496875\n",
            "[0.9707503869039257, 0.6962192205932861, 0.7015329129448751, 0.5424775899566372, 0.46601093209442723, 0.49091712219465383, 0.4297660858269768, 0.30163644828836883, 0.30834413560542184, 0.27173101069464084, 0.24210946675688547, 0.25222253934171973, 0.26054198049781163, 0.21292228272853206, 0.23407432067723952, 0.21305136546258935, 0.21483647466023884, 0.2062096098145853, 0.22693266268066725, 0.22386366783508233, 0.24206017937887628, 0.23591428322633176, 0.19684266766747427, 0.2319217910496875]\n",
            "Testing Loss: 0.9859 Acc: 0.8173\n",
            "\n",
            "Epoch 24/24\n",
            "----------\n",
            "Training Loss: 0.2167 Acc: 0.9237\n",
            "0.21667768567774562\n",
            "[0.9707503869039257, 0.6962192205932861, 0.7015329129448751, 0.5424775899566372, 0.46601093209442723, 0.49091712219465383, 0.4297660858269768, 0.30163644828836883, 0.30834413560542184, 0.27173101069464084, 0.24210946675688547, 0.25222253934171973, 0.26054198049781163, 0.21292228272853206, 0.23407432067723952, 0.21305136546258935, 0.21483647466023884, 0.2062096098145853, 0.22693266268066725, 0.22386366783508233, 0.24206017937887628, 0.23591428322633176, 0.19684266766747427, 0.2319217910496875, 0.21667768567774562]\n",
            "Testing Loss: 1.0024 Acc: 0.8173\n",
            "\n",
            "Training complete in 20m 26s\n",
            "Best val Acc: 0.817259\n"
          ]
        }
      ]
    },
    {
      "cell_type": "markdown",
      "source": [
        "Visualizing the Model Loss"
      ],
      "metadata": {
        "id": "7vX1fWcPkUC3"
      }
    },
    {
      "cell_type": "code",
      "source": [
        "# ------------ Plot loss and Acc curves\n",
        "plt.plot(model_tr_loss_v, label = 'train')\n",
        "plt.plot(model_val_loss_v, label = 'validation')\n",
        "plt.title('Model loss')\n",
        "plt.ylabel('loss')\n",
        "plt.xlabel('epoch')\n",
        "plt.legend(loc='upper right')\n",
        "plt.show()"
      ],
      "metadata": {
        "id": "QqYvFQ-sVq3G",
        "colab": {
          "base_uri": "https://localhost:8080/",
          "height": 295
        },
        "outputId": "e3eea776-dbb1-4153-e853-9619dcdcfbe6"
      },
      "execution_count": 37,
      "outputs": [
        {
          "output_type": "display_data",
          "data": {
            "image/png": "[encoded data removed]",
            "text/plain": [
              "<Figure size 432x288 with 1 Axes>"
            ]
          },
          "metadata": {
            "needs_background": "light"
          }
        }
      ]
    },
    {
      "cell_type": "markdown",
      "source": [
        "Visualizing the Model Accuracy"
      ],
      "metadata": {
        "id": "UhVlNNNbkZ3I"
      }
    },
    {
      "cell_type": "code",
      "source": [
        "# ------------ Plot loss and Acc curves\n",
        "plt.plot(model_tr_acc_v, label = 'train')\n",
        "plt.plot(model_val_acc_v, label = 'validation')\n",
        "plt.title('Model Accuracy')\n",
        "plt.ylabel('accuracy')\n",
        "plt.xlabel('epoch')\n",
        "plt.legend(loc='upper right')\n",
        "plt.show()"
      ],
      "metadata": {
        "colab": {
          "base_uri": "https://localhost:8080/",
          "height": 295
        },
        "id": "s9g2I_fj4YMh",
        "outputId": "364b31d0-3db6-4250-c371-94101c45b996"
      },
      "execution_count": 38,
      "outputs": [
        {
          "output_type": "display_data",
          "data": {
            "image/png": "[encoded data removed]",
            "text/plain": [
              "<Figure size 432x288 with 1 Axes>"
            ]
          },
          "metadata": {
            "needs_background": "light"
          }
        }
      ]
    },
    {
      "cell_type": "markdown",
      "source": [
        "Confusion Matrix"
      ],
      "metadata": {
        "id": "2fSEA738kdr-"
      }
    },
    {
      "cell_type": "code",
      "source": [
        "labels_v, probs_v = get_predictions(model_ft_vnet_s, dataloaders['Testing'], device)\n",
        "labels_v = labels_v.cpu().numpy()\n",
        "probs_v = probs_v.cpu().numpy()\n",
        "plot_confusion_matrix(labels_v, probs_v, class_names)"
      ],
      "metadata": {
        "colab": {
          "base_uri": "https://localhost:8080/",
          "height": 645
        },
        "id": "A_1MuT5P5HfC",
        "outputId": "e923265d-237c-4a43-cec1-ff2a03ecea11"
      },
      "execution_count": 39,
      "outputs": [
        {
          "output_type": "stream",
          "name": "stderr",
          "text": [
            "/usr/local/lib/python3.7/dist-packages/torch/utils/data/dataloader.py:481: UserWarning: This DataLoader will create 4 worker processes in total. Our suggested max number of worker in current system is 2, which is smaller than what this DataLoader is going to create. Please be aware that excessive worker creation might get DataLoader running slow or even freeze, lower the worker number to avoid potential slowness/freeze if necessary.\n",
            "  cpuset_checked))\n"
          ]
        },
        {
          "output_type": "display_data",
          "data": {
            "image/png": "[encoded data removed]",
            "text/plain": [
              "<Figure size 720x720 with 2 Axes>"
            ]
          },
          "metadata": {
            "needs_background": "light"
          }
        }
      ]
    }
  ]
}